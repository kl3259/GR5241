{
 "cells": [
  {
   "cell_type": "markdown",
   "metadata": {},
   "source": [
    "## GR5241 Statistical Machine Learning\n",
    "### Data Analysis Project Milestone 1\n",
    "### Name: Kangshuo Li  UNI: kl3259\n",
    "![](GR5241_PROJ2_Q3.png)\n",
    "![](GR5241_PROJ2_Q4.png)"
   ]
  },
  {
   "cell_type": "markdown",
   "metadata": {},
   "source": [
    "### Setup"
   ]
  },
  {
   "cell_type": "code",
   "execution_count": null,
   "metadata": {},
   "outputs": [],
   "source": [
    "import torch\n",
    "import torchvision\n",
    "import pandas as pd\n",
    "import numpy as np\n",
    "import sklearn\n",
    "import matplotlib\n",
    "from matplotlib import pyplot as plt\n",
    "import time\n",
    "import os\n",
    "import re\n",
    "os.getcwd()"
   ]
  },
  {
   "cell_type": "markdown",
   "metadata": {},
   "source": [
    "### Read in data"
   ]
  },
  {
   "cell_type": "code",
   "execution_count": null,
   "metadata": {},
   "outputs": [],
   "source": [
    "# Data download and preprocessing\n",
    "from torch.utils import data\n",
    "\n",
    "DOWNLOAD_MNIST = False # If already download , set as False\n",
    "\n",
    "train_data = torchvision.datasets.MNIST(\n",
    "    root =\"./mnist/\",\n",
    "    train = True , # this is training data\n",
    "    # transform = torchvision.transforms.ToTensor(),\n",
    "    download = DOWNLOAD_MNIST\n",
    ")\n",
    "test_data = torchvision.datasets.MNIST(root = \"./mnist/\", train = False)\n",
    "\n",
    "# change the features to numpy\n",
    "X_train = train_data.train_data.numpy()\n",
    "X_test = test_data.test_data.numpy()\n",
    "\n",
    "# change the labels to numpy\n",
    "Y_train = train_data.train_labels.numpy()\n",
    "\n",
    "Y_test = test_data.test_labels.numpy()"
   ]
  }
 ],
 "metadata": {
  "language_info": {
   "name": "python"
  },
  "orig_nbformat": 4
 },
 "nbformat": 4,
 "nbformat_minor": 2
}
