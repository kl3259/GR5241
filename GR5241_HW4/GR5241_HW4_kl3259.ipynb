{
 "cells": [
  {
   "cell_type": "markdown",
   "metadata": {},
   "source": [
    "## GR5241 Homework 4\n",
    "### Name: Kangshuo Li           UNI: kl3259\n",
    "\n",
    "<br>\n",
    "\n",
    "![](GR5241_HW4_Q5_1.png)\n",
    "![](GR5241_HW4_Q5_2.png)\n",
    "![](GR5241_HW4_Q5_3.png)\n",
    "![](GR5241_HW4_Q5_4.png)"
   ]
  },
  {
   "cell_type": "markdown",
   "metadata": {},
   "source": [
    "#### Setup"
   ]
  },
  {
   "cell_type": "code",
   "execution_count": 43,
   "metadata": {},
   "outputs": [
    {
     "name": "stdout",
     "output_type": "stream",
     "text": [
      "Exception reporting mode: Plain\n"
     ]
    },
    {
     "data": {
      "text/plain": [
       "'/Users/kangshuoli/Documents/VScode_workspace/GR5241/GR5241_HW4'"
      ]
     },
     "execution_count": 43,
     "metadata": {},
     "output_type": "execute_result"
    }
   ],
   "source": [
    "import pandas as pd\n",
    "import numpy as np\n",
    "import sklearn\n",
    "import matplotlib\n",
    "from matplotlib import pyplot as plt\n",
    "import os\n",
    "import time\n",
    "%xmode plain\n",
    "os.getcwd()"
   ]
  },
  {
   "cell_type": "markdown",
   "metadata": {},
   "source": [
    "#### Read in data"
   ]
  },
  {
   "cell_type": "code",
   "execution_count": 44,
   "metadata": {},
   "outputs": [],
   "source": [
    "feature_df = pd.read_csv(\"features.txt\", header = None)\n",
    "target_df = pd.read_csv(\"target.txt\", header = None)\n",
    "assert feature_df.shape == (6414,122)\n",
    "assert target_df.shape == (6414, 1)"
   ]
  },
  {
   "cell_type": "markdown",
   "metadata": {},
   "source": [
    "#### 5.\n",
    "##### (a)"
   ]
  },
  {
   "cell_type": "code",
   "execution_count": 39,
   "metadata": {},
   "outputs": [],
   "source": [
    "def my_SVM(method, x_ = feature_df, y_ = target_df):\n",
    "    n = x_.shape[0]\n",
    "    d = x_.shape[1]\n",
    "    y_ = np.array(y_).ravel()\n",
    "    def L(w, b, x_i, y_i):\n",
    "        return max(0, (1 - y_i * (w.T @ x_i + b)))\n",
    "\n",
    "    def cost(w, b, C, x_ = x_, y_ = y_):\n",
    "        sum_L = 0\n",
    "        for i in np.arange(n):\n",
    "            sum_L += L(w, b, np.array(x_.iloc[i, :]).T, int(y_[i]))\n",
    "        return (1 / 2) * w.T @ w + C * sum_L\n",
    "\n",
    "    def gradient_w(w, b, x_, y_, C, j):\n",
    "        sum_L = 0\n",
    "        for i in np.arange(n):\n",
    "            if y_[i] * (w.T @ x_.iloc[i,:].T + b) >= 1:\n",
    "                continue\n",
    "            else:\n",
    "                sum_L += (- x_.iloc[i,j] * y_[i])\n",
    "        return w[j] + C * sum_L\n",
    "\n",
    "    def gradient_w_i(w, b, x_i, y_i, C, j):\n",
    "        sum_L = 0\n",
    "        if y_i * (w.T @ x_i + b) >= 1:\n",
    "            return w[j]\n",
    "        else:\n",
    "            sum_L += (- x_i[j] * y_i)\n",
    "        return w[j] + C * sum_L\n",
    "\n",
    "    def gradient_w_l(w, b, batch_size, x_l, y_l, C, j):\n",
    "        sum_L = 0\n",
    "        x_l.index = np.arange(x_l.shape[0], dtype = int)\n",
    "        for i in np.arange(batch_size):\n",
    "            if y_l[i] * (w.T @ x_l.iloc[i,:].T + b) >= 1:\n",
    "                continue\n",
    "            else:\n",
    "                sum_L += (- x_l.iloc[i, j] * y_l[j])\n",
    "            return w[j] + C * sum_L\n",
    "\n",
    "    def gradient_b(w, b, x_, y_, C):\n",
    "        sum_L = 0\n",
    "        for i in np.arange(n):\n",
    "            if y_[i] * (w.T @ x_.iloc[i,:].T + b) >= 1:\n",
    "                continue\n",
    "            else:\n",
    "                sum_L += (- y_[i])\n",
    "        return  C * sum_L\n",
    "\n",
    "    def gradient_b_i(w, b, x_i, y_i, C):\n",
    "        if y_i * (w.T @ x_i + b) >= 1:\n",
    "            return 0\n",
    "        else:\n",
    "            return C * (- y_i)\n",
    "\n",
    "    def gradient_b_l(w, b, batch_size, x_l, y_l, C):\n",
    "        sum_L = 0\n",
    "        x_l.index = np.arange(x_l.shape[0], dtype = int)\n",
    "        for i in np.arange(batch_size):\n",
    "            if y_l[i] * (w.T @ x_l.iloc[i,:].T + b) >= 1:\n",
    "                continue\n",
    "            else:\n",
    "                sum_L += (- y_l[i])\n",
    "        return  C * sum_L\n",
    "\n",
    "    #---------------------------------------------------------------------------------------\n",
    "\n",
    "    def my_batchGD(ita = 0.0000003, epsilon = 0.25, C = 100, x_ = x_, y_ = y_):\n",
    "        k = 0\n",
    "        cost_list = [] # f_k(w, b)\n",
    "        w = np.zeros((d,)) # (d,)\n",
    "        b = 0\n",
    "        cost_list.append(cost(w, b, C, x_ = x_, y_ = y_)) # f_0(w, b)\n",
    "        conv_crit = 100\n",
    "        while conv_crit > epsilon:\n",
    "            prev_w = w\n",
    "            for j in np.arange(d):\n",
    "                w[j] -= ita * gradient_w(w, b, x_, y_, C, j)\n",
    "            b -= ita * gradient_b(prev_w, b, x_, y_, C)\n",
    "            k += 1\n",
    "            cost_list.append(cost(w, b, C, x_ = x_, y_ = y_))\n",
    "            conv_crit = 100 * np.abs(cost_list[k - 1] - cost_list[k]) / (cost_list[k - 1])\n",
    "        return w, b, cost_list, k\n",
    "\n",
    "    def my_SGD(ita = 0.0001, epsilon = 0.001, C = 100, x_ = x_, y_ = y_):\n",
    "        # shuffle the data\n",
    "        from sklearn.utils import shuffle\n",
    "        x_shuffled, y_shuffled = shuffle(\n",
    "            x_, y_, \n",
    "            random_state = 42\n",
    "        )\n",
    "        # reindexing\n",
    "        x_shuffled.index = np.arange(n, dtype = int)\n",
    "        i = 1\n",
    "        k = 0\n",
    "        cost_list = []\n",
    "        delta_cost_list = []\n",
    "        delta_cost_list.append(0) # delta_cost = 0\n",
    "        w = np.zeros((d,)) # (d,)\n",
    "        b = 0\n",
    "        cost_list.append(cost(w, b, C, x_ = x_shuffled, y_ = y_shuffled)) # f_0(w, b)\n",
    "        conv_crit = 100\n",
    "        while conv_crit > epsilon:\n",
    "            prev_w = w\n",
    "            for j in np.arange(d):\n",
    "                w[j] -= ita * gradient_w_i(w, b, x_shuffled.iloc[i,:].T, y_shuffled[i], C, j)\n",
    "            b -= ita * gradient_b_i(prev_w, b, x_shuffled.iloc[i,:].T, y_shuffled[i], C)\n",
    "            i = (i % n) + 1\n",
    "            k += 1\n",
    "            cost_list.append(cost(w, b, C, x_ = x_shuffled, y_ = y_shuffled))\n",
    "            delta_cost_percentage = 100 * np.abs(cost_list[k - 1] - cost_list[k]) / (cost_list[k - 1])\n",
    "            delta_cost_list.append(0.5 * delta_cost_percentage + 0.5 * delta_cost_list[k - 1])\n",
    "            conv_crit = delta_cost_list[k]\n",
    "        return w, b, cost_list, k\n",
    "\n",
    "    def my_MiniBatchGD(batch_size = 20, ita = 0.00001, epsilon = 0.01, C = 100, x_ = x_, y_ = y_):\n",
    "        # shuffle the data\n",
    "        from sklearn.utils import shuffle\n",
    "        x_shuffled, y_shuffled = shuffle(\n",
    "            x_, y_, \n",
    "            random_state = 42\n",
    "        )\n",
    "        # reindexing\n",
    "        x_shuffled.index = np.arange(n, dtype = int)\n",
    "        l = 1\n",
    "        k = 0\n",
    "        w = np.zeros((d,)) # (d,)\n",
    "        b = 0\n",
    "        cost_list = []\n",
    "        cost_list.append(cost(w, b, C, x_ = x_shuffled, y_ = y_shuffled)) # f_0(w, b)\n",
    "        delta_cost_list = []\n",
    "        delta_cost_list.append(0) # delta_cost = 0\n",
    "        conv_crit = 100\n",
    "        while conv_crit > epsilon:\n",
    "            prev_w = w\n",
    "            for j in np.arange(d):\n",
    "                w[j] -= ita * gradient_w_l(\n",
    "                    w, b, batch_size, \n",
    "                    x_shuffled.iloc[np.arange(l * batch_size + 1, min(n, (l+1) * batch_size + 1), dtype = int),:], \n",
    "                    y_shuffled[np.arange(l * batch_size + 1, min(n, (l+1) * batch_size + 1), dtype = int)], \n",
    "                    C, j\n",
    "                )\n",
    "            b -= ita * gradient_b_l(\n",
    "                prev_w, b, batch_size, \n",
    "                x_shuffled.iloc[np.arange(l * batch_size + 1, min(n, (l+1) * batch_size + 1), dtype = int),:], \n",
    "                y_shuffled[np.arange(l * batch_size + 1, min(n, (l+1) * batch_size + 1), dtype = int)], \n",
    "                C\n",
    "            )\n",
    "            l = (l + 1) % ((n + batch_size - 1) / (batch_size))\n",
    "            k += 1\n",
    "            cost_list.append(cost(w, b, C, x_ = x_shuffled, y_ = y_shuffled))\n",
    "            delta_cost_percentage = 100 * np.abs(cost_list[k - 1] - cost_list[k]) / (cost_list[k - 1])\n",
    "            delta_cost_list.append(0.5 * delta_cost_percentage + 0.5 * delta_cost_list[k - 1])\n",
    "            conv_crit = delta_cost_list[k]\n",
    "        return w, b, cost_list, k\n",
    "\n",
    "    #---------------------------------------------------------------------------------------\n",
    "    def make_prediction(w_, b_, x_ = x_, y_ = y_):\n",
    "        prediction = []\n",
    "        for i in np.arange(n):\n",
    "            if w_.T @ x_.iloc[i,:].T + b_ >= 0:\n",
    "                prediction.append(1)\n",
    "            else:\n",
    "                prediction.append(0)\n",
    "        return np.array(prediction)\n",
    "\n",
    "    #---------------------------------------------------------------------------------------\n",
    "\n",
    "    if method == \"BatchGD\":\n",
    "        w, b, cost_list, k =  my_batchGD(ita = 0.0000003, epsilon = 0.25, C = 100, x_ = x_, y_ = y_)\n",
    "    elif method == \"SGD\":\n",
    "        w, b, cost_list, k = my_SGD(ita = 0.0001, epsilon = 0.001, C = 100, x_ = x_, y_ = y_)\n",
    "    elif method == \"MiniBatchGD\":\n",
    "        w, b, cost_list, k = my_MiniBatchGD(batch_size = 20, ita = 0.00001, epsilon = 0.01, C = 100, x_ = x_, y_ = y_)\n",
    "    return make_prediction(w, b, x_, y_), w, b, cost_list, k\n"
   ]
  },
  {
   "cell_type": "markdown",
   "metadata": {},
   "source": [
    "#### (b)"
   ]
  },
  {
   "cell_type": "code",
   "execution_count": 31,
   "metadata": {},
   "outputs": [],
   "source": [
    "from sklearn.metrics import accuracy_score, roc_auc_score"
   ]
  },
  {
   "cell_type": "code",
   "execution_count": 35,
   "metadata": {},
   "outputs": [
    {
     "name": "stdout",
     "output_type": "stream",
     "text": [
      "The AUC of BatchGD SVM is: 0.6718\n",
      "Time cost: 1924.55s\n"
     ]
    }
   ],
   "source": [
    "# implement my_SVM with BatchGD\n",
    "start_time = time.time()\n",
    "prediction_BatchGD, w, b, cost_list_BatchGD, k_BatchGD = my_SVM(\n",
    "    method = \"BatchGD\", \n",
    "    x_ = feature_df, \n",
    "    y_ = target_df\n",
    ")\n",
    "time_cost = time.time() - start_time\n",
    "auc_BatchGD = roc_auc_score(target_df, prediction_BatchGD)\n",
    "print(f'The AUC of BatchGD SVM is: {auc_BatchGD:0.4f}\\nTime cost: {time_cost:0.2f}s\\nConverge in: {k_BatchGD} iterations')"
   ]
  },
  {
   "cell_type": "code",
   "execution_count": 40,
   "metadata": {},
   "outputs": [
    {
     "name": "stdout",
     "output_type": "stream",
     "text": [
      "The AUC of SGD SVM is: 0.7256\n",
      "Time cost: 743.99s\n"
     ]
    }
   ],
   "source": [
    "# implement my_SVM with SGD\n",
    "start_time = time.time()\n",
    "prediction_SGD, w, b, cost_list_SGD, k_SGD = my_SVM(\n",
    "    method = \"SGD\", \n",
    "    x_ = feature_df, \n",
    "    y_ = target_df\n",
    ")\n",
    "time_cost = time.time() - start_time\n",
    "auc_SGD = roc_auc_score(target_df, prediction_SGD)\n",
    "print(f'The AUC of SGD SVM is: {auc_SGD:0.4f}\\nTime cost: {time_cost:0.2f}s\\nConverge in: {k_SGD} iterations')"
   ]
  },
  {
   "cell_type": "code",
   "execution_count": 41,
   "metadata": {},
   "outputs": [
    {
     "ename": "IndexError",
     "evalue": "index 20 is out of bounds for axis 0 with size 20",
     "output_type": "error",
     "traceback": [
      "\u001b[0;31m---------------------------------------------------------------------------\u001b[0m",
      "\u001b[0;31mIndexError\u001b[0m                                Traceback (most recent call last)",
      "\u001b[1;32m/Users/kangshuoli/Documents/VScode_workspace/GR5241/GR5241_HW4/GR5241_HW4_kl3259.ipynb Cell 12'\u001b[0m in \u001b[0;36m<module>\u001b[0;34m\u001b[0m\n\u001b[1;32m      <a href='vscode-notebook-cell:/Users/kangshuoli/Documents/VScode_workspace/GR5241/GR5241_HW4/GR5241_HW4_kl3259.ipynb#ch0000017?line=0'>1</a>\u001b[0m \u001b[39m# implement my_SVM with MiniBatchGD\u001b[39;00m\n\u001b[1;32m      <a href='vscode-notebook-cell:/Users/kangshuoli/Documents/VScode_workspace/GR5241/GR5241_HW4/GR5241_HW4_kl3259.ipynb#ch0000017?line=1'>2</a>\u001b[0m start_time \u001b[39m=\u001b[39m time\u001b[39m.\u001b[39mtime()\n\u001b[0;32m----> <a href='vscode-notebook-cell:/Users/kangshuoli/Documents/VScode_workspace/GR5241/GR5241_HW4/GR5241_HW4_kl3259.ipynb#ch0000017?line=2'>3</a>\u001b[0m prediction, w, b \u001b[39m=\u001b[39m my_SVM(\n\u001b[1;32m      <a href='vscode-notebook-cell:/Users/kangshuoli/Documents/VScode_workspace/GR5241/GR5241_HW4/GR5241_HW4_kl3259.ipynb#ch0000017?line=3'>4</a>\u001b[0m     method \u001b[39m=\u001b[39;49m \u001b[39m\"\u001b[39;49m\u001b[39mMiniBatchGD\u001b[39;49m\u001b[39m\"\u001b[39;49m, \n\u001b[1;32m      <a href='vscode-notebook-cell:/Users/kangshuoli/Documents/VScode_workspace/GR5241/GR5241_HW4/GR5241_HW4_kl3259.ipynb#ch0000017?line=4'>5</a>\u001b[0m     x_ \u001b[39m=\u001b[39;49m feature_df, \n\u001b[1;32m      <a href='vscode-notebook-cell:/Users/kangshuoli/Documents/VScode_workspace/GR5241/GR5241_HW4/GR5241_HW4_kl3259.ipynb#ch0000017?line=5'>6</a>\u001b[0m     y_ \u001b[39m=\u001b[39;49m target_df\n\u001b[1;32m      <a href='vscode-notebook-cell:/Users/kangshuoli/Documents/VScode_workspace/GR5241/GR5241_HW4/GR5241_HW4_kl3259.ipynb#ch0000017?line=6'>7</a>\u001b[0m )\n\u001b[1;32m      <a href='vscode-notebook-cell:/Users/kangshuoli/Documents/VScode_workspace/GR5241/GR5241_HW4/GR5241_HW4_kl3259.ipynb#ch0000017?line=7'>8</a>\u001b[0m time_cost \u001b[39m=\u001b[39m time\u001b[39m.\u001b[39mtime() \u001b[39m-\u001b[39m start_time\n\u001b[1;32m      <a href='vscode-notebook-cell:/Users/kangshuoli/Documents/VScode_workspace/GR5241/GR5241_HW4/GR5241_HW4_kl3259.ipynb#ch0000017?line=8'>9</a>\u001b[0m auc_MiniBatchGD \u001b[39m=\u001b[39m roc_auc_score(target_df, prediction)\n",
      "\u001b[1;32m/Users/kangshuoli/Documents/VScode_workspace/GR5241/GR5241_HW4/GR5241_HW4_kl3259.ipynb Cell 7'\u001b[0m in \u001b[0;36mmy_SVM\u001b[0;34m(method, x_, y_)\u001b[0m\n\u001b[1;32m    <a href='vscode-notebook-cell:/Users/kangshuoli/Documents/VScode_workspace/GR5241/GR5241_HW4/GR5241_HW4_kl3259.ipynb#ch0000000?line=173'>174</a>\u001b[0m     w, b \u001b[39m=\u001b[39m my_SGD(ita \u001b[39m=\u001b[39m \u001b[39m0.0001\u001b[39m, epsilon \u001b[39m=\u001b[39m \u001b[39m0.001\u001b[39m, C \u001b[39m=\u001b[39m \u001b[39m100\u001b[39m, x_ \u001b[39m=\u001b[39m x_, y_ \u001b[39m=\u001b[39m y_)\n\u001b[1;32m    <a href='vscode-notebook-cell:/Users/kangshuoli/Documents/VScode_workspace/GR5241/GR5241_HW4/GR5241_HW4_kl3259.ipynb#ch0000000?line=174'>175</a>\u001b[0m \u001b[39melif\u001b[39;00m method \u001b[39m==\u001b[39m \u001b[39m\"\u001b[39m\u001b[39mMiniBatchGD\u001b[39m\u001b[39m\"\u001b[39m:\n\u001b[0;32m--> <a href='vscode-notebook-cell:/Users/kangshuoli/Documents/VScode_workspace/GR5241/GR5241_HW4/GR5241_HW4_kl3259.ipynb#ch0000000?line=175'>176</a>\u001b[0m     w, b \u001b[39m=\u001b[39m my_MiniBatchGD(batch_size \u001b[39m=\u001b[39;49m \u001b[39m20\u001b[39;49m, ita \u001b[39m=\u001b[39;49m \u001b[39m0.00001\u001b[39;49m, epsilon \u001b[39m=\u001b[39;49m \u001b[39m0.01\u001b[39;49m, C \u001b[39m=\u001b[39;49m \u001b[39m100\u001b[39;49m, x_ \u001b[39m=\u001b[39;49m x_, y_ \u001b[39m=\u001b[39;49m y_)\n\u001b[1;32m    <a href='vscode-notebook-cell:/Users/kangshuoli/Documents/VScode_workspace/GR5241/GR5241_HW4/GR5241_HW4_kl3259.ipynb#ch0000000?line=176'>177</a>\u001b[0m \u001b[39mreturn\u001b[39;00m make_prediction(w, b, x_, y_), w, b\n",
      "\u001b[1;32m/Users/kangshuoli/Documents/VScode_workspace/GR5241/GR5241_HW4/GR5241_HW4_kl3259.ipynb Cell 7'\u001b[0m in \u001b[0;36mmy_SVM.<locals>.my_MiniBatchGD\u001b[0;34m(batch_size, ita, epsilon, C, x_, y_)\u001b[0m\n\u001b[1;32m    <a href='vscode-notebook-cell:/Users/kangshuoli/Documents/VScode_workspace/GR5241/GR5241_HW4/GR5241_HW4_kl3259.ipynb#ch0000000?line=136'>137</a>\u001b[0m prev_w \u001b[39m=\u001b[39m w\n\u001b[1;32m    <a href='vscode-notebook-cell:/Users/kangshuoli/Documents/VScode_workspace/GR5241/GR5241_HW4/GR5241_HW4_kl3259.ipynb#ch0000000?line=137'>138</a>\u001b[0m \u001b[39mfor\u001b[39;00m j \u001b[39min\u001b[39;00m np\u001b[39m.\u001b[39marange(d):\n\u001b[0;32m--> <a href='vscode-notebook-cell:/Users/kangshuoli/Documents/VScode_workspace/GR5241/GR5241_HW4/GR5241_HW4_kl3259.ipynb#ch0000000?line=138'>139</a>\u001b[0m     w[j] \u001b[39m-\u001b[39m\u001b[39m=\u001b[39m ita \u001b[39m*\u001b[39m gradient_w_l(\n\u001b[1;32m    <a href='vscode-notebook-cell:/Users/kangshuoli/Documents/VScode_workspace/GR5241/GR5241_HW4/GR5241_HW4_kl3259.ipynb#ch0000000?line=139'>140</a>\u001b[0m         w, b, batch_size, \n\u001b[1;32m    <a href='vscode-notebook-cell:/Users/kangshuoli/Documents/VScode_workspace/GR5241/GR5241_HW4/GR5241_HW4_kl3259.ipynb#ch0000000?line=140'>141</a>\u001b[0m         x_shuffled\u001b[39m.\u001b[39;49miloc[np\u001b[39m.\u001b[39;49marange(l \u001b[39m*\u001b[39;49m batch_size \u001b[39m+\u001b[39;49m \u001b[39m1\u001b[39;49m, \u001b[39mmin\u001b[39;49m(n, (l\u001b[39m+\u001b[39;49m\u001b[39m1\u001b[39;49m) \u001b[39m*\u001b[39;49m batch_size \u001b[39m+\u001b[39;49m \u001b[39m1\u001b[39;49m), dtype \u001b[39m=\u001b[39;49m \u001b[39mint\u001b[39;49m),:], \n\u001b[1;32m    <a href='vscode-notebook-cell:/Users/kangshuoli/Documents/VScode_workspace/GR5241/GR5241_HW4/GR5241_HW4_kl3259.ipynb#ch0000000?line=141'>142</a>\u001b[0m         y_shuffled[np\u001b[39m.\u001b[39;49marange(l \u001b[39m*\u001b[39;49m batch_size \u001b[39m+\u001b[39;49m \u001b[39m1\u001b[39;49m, \u001b[39mmin\u001b[39;49m(n, (l\u001b[39m+\u001b[39;49m\u001b[39m1\u001b[39;49m) \u001b[39m*\u001b[39;49m batch_size \u001b[39m+\u001b[39;49m \u001b[39m1\u001b[39;49m), dtype \u001b[39m=\u001b[39;49m \u001b[39mint\u001b[39;49m)], \n\u001b[1;32m    <a href='vscode-notebook-cell:/Users/kangshuoli/Documents/VScode_workspace/GR5241/GR5241_HW4/GR5241_HW4_kl3259.ipynb#ch0000000?line=142'>143</a>\u001b[0m         C, j\n\u001b[1;32m    <a href='vscode-notebook-cell:/Users/kangshuoli/Documents/VScode_workspace/GR5241/GR5241_HW4/GR5241_HW4_kl3259.ipynb#ch0000000?line=143'>144</a>\u001b[0m     )\n\u001b[1;32m    <a href='vscode-notebook-cell:/Users/kangshuoli/Documents/VScode_workspace/GR5241/GR5241_HW4/GR5241_HW4_kl3259.ipynb#ch0000000?line=144'>145</a>\u001b[0m b \u001b[39m-\u001b[39m\u001b[39m=\u001b[39m ita \u001b[39m*\u001b[39m gradient_b_l(\n\u001b[1;32m    <a href='vscode-notebook-cell:/Users/kangshuoli/Documents/VScode_workspace/GR5241/GR5241_HW4/GR5241_HW4_kl3259.ipynb#ch0000000?line=145'>146</a>\u001b[0m     prev_w, b, batch_size, \n\u001b[1;32m    <a href='vscode-notebook-cell:/Users/kangshuoli/Documents/VScode_workspace/GR5241/GR5241_HW4/GR5241_HW4_kl3259.ipynb#ch0000000?line=146'>147</a>\u001b[0m     x_shuffled\u001b[39m.\u001b[39miloc[np\u001b[39m.\u001b[39marange(l \u001b[39m*\u001b[39m batch_size \u001b[39m+\u001b[39m \u001b[39m1\u001b[39m, \u001b[39mmin\u001b[39m(n, (l\u001b[39m+\u001b[39m\u001b[39m1\u001b[39m) \u001b[39m*\u001b[39m batch_size \u001b[39m+\u001b[39m \u001b[39m1\u001b[39m), dtype \u001b[39m=\u001b[39m \u001b[39mint\u001b[39m),:], \n\u001b[1;32m    <a href='vscode-notebook-cell:/Users/kangshuoli/Documents/VScode_workspace/GR5241/GR5241_HW4/GR5241_HW4_kl3259.ipynb#ch0000000?line=147'>148</a>\u001b[0m     y_shuffled[np\u001b[39m.\u001b[39marange(l \u001b[39m*\u001b[39m batch_size \u001b[39m+\u001b[39m \u001b[39m1\u001b[39m, \u001b[39mmin\u001b[39m(n, (l\u001b[39m+\u001b[39m\u001b[39m1\u001b[39m) \u001b[39m*\u001b[39m batch_size \u001b[39m+\u001b[39m \u001b[39m1\u001b[39m), dtype \u001b[39m=\u001b[39m \u001b[39mint\u001b[39m)], \n\u001b[1;32m    <a href='vscode-notebook-cell:/Users/kangshuoli/Documents/VScode_workspace/GR5241/GR5241_HW4/GR5241_HW4_kl3259.ipynb#ch0000000?line=148'>149</a>\u001b[0m     C\n\u001b[1;32m    <a href='vscode-notebook-cell:/Users/kangshuoli/Documents/VScode_workspace/GR5241/GR5241_HW4/GR5241_HW4_kl3259.ipynb#ch0000000?line=149'>150</a>\u001b[0m )\n\u001b[1;32m    <a href='vscode-notebook-cell:/Users/kangshuoli/Documents/VScode_workspace/GR5241/GR5241_HW4/GR5241_HW4_kl3259.ipynb#ch0000000?line=150'>151</a>\u001b[0m l \u001b[39m=\u001b[39m (l \u001b[39m+\u001b[39m \u001b[39m1\u001b[39m) \u001b[39m%\u001b[39m ((n \u001b[39m+\u001b[39m batch_size \u001b[39m-\u001b[39m \u001b[39m1\u001b[39m) \u001b[39m/\u001b[39m (batch_size))\n",
      "\u001b[1;32m/Users/kangshuoli/Documents/VScode_workspace/GR5241/GR5241_HW4/GR5241_HW4_kl3259.ipynb Cell 7'\u001b[0m in \u001b[0;36mmy_SVM.<locals>.gradient_w_l\u001b[0;34m(w, b, batch_size, x_l, y_l, C, j)\u001b[0m\n\u001b[1;32m     <a href='vscode-notebook-cell:/Users/kangshuoli/Documents/VScode_workspace/GR5241/GR5241_HW4/GR5241_HW4_kl3259.ipynb#ch0000000?line=37'>38</a>\u001b[0m     \u001b[39mcontinue\u001b[39;00m\n\u001b[1;32m     <a href='vscode-notebook-cell:/Users/kangshuoli/Documents/VScode_workspace/GR5241/GR5241_HW4/GR5241_HW4_kl3259.ipynb#ch0000000?line=38'>39</a>\u001b[0m \u001b[39melse\u001b[39;00m:\n\u001b[0;32m---> <a href='vscode-notebook-cell:/Users/kangshuoli/Documents/VScode_workspace/GR5241/GR5241_HW4/GR5241_HW4_kl3259.ipynb#ch0000000?line=39'>40</a>\u001b[0m     sum_L \u001b[39m+\u001b[39m\u001b[39m=\u001b[39m (\u001b[39m-\u001b[39m x_l\u001b[39m.\u001b[39miloc[i, j] \u001b[39m*\u001b[39m y_l[j])\n\u001b[1;32m     <a href='vscode-notebook-cell:/Users/kangshuoli/Documents/VScode_workspace/GR5241/GR5241_HW4/GR5241_HW4_kl3259.ipynb#ch0000000?line=40'>41</a>\u001b[0m \u001b[39mreturn\u001b[39;00m w[j] \u001b[39m+\u001b[39m C \u001b[39m*\u001b[39m sum_L\n",
      "\u001b[0;31mIndexError\u001b[0m: index 20 is out of bounds for axis 0 with size 20"
     ]
    }
   ],
   "source": [
    "# implement my_SVM with MiniBatchGD\n",
    "start_time = time.time()\n",
    "prediction_MiniBatchGD, w, b, cost_list_MiniBatchGD, k_MiniBatchGD = my_SVM(\n",
    "    method = \"MiniBatchGD\", \n",
    "    x_ = feature_df, \n",
    "    y_ = target_df\n",
    ")\n",
    "time_cost = time.time() - start_time\n",
    "auc_MiniBatchGD = roc_auc_score(target_df, prediction_MiniBatchGD)\n",
    "print(f'The AUC of MiniBatchGD SVM is: {auc_MiniBatchGD:0.4f}\\nTime cost: {time_cost:0.2f}s\\nConverge in: {k_MiniBatchGD} iterations')"
   ]
  },
  {
   "cell_type": "markdown",
   "metadata": {},
   "source": [
    "#### (C)"
   ]
  },
  {
   "cell_type": "code",
   "execution_count": null,
   "metadata": {},
   "outputs": [],
   "source": []
  }
 ],
 "metadata": {
  "interpreter": {
   "hash": "27646e5cfdb25e10f4fd8ef0a3a49281af2a8af5fb226dbbb4749ab5404e27a8"
  },
  "kernelspec": {
   "display_name": "Python 3.9.10 ('eods-s22')",
   "language": "python",
   "name": "python3"
  },
  "language_info": {
   "codemirror_mode": {
    "name": "ipython",
    "version": 3
   },
   "file_extension": ".py",
   "mimetype": "text/x-python",
   "name": "python",
   "nbconvert_exporter": "python",
   "pygments_lexer": "ipython3",
   "version": "3.9.10"
  },
  "orig_nbformat": 4
 },
 "nbformat": 4,
 "nbformat_minor": 2
}
