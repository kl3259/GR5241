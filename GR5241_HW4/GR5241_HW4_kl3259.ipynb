{
 "cells": [
  {
   "cell_type": "markdown",
   "metadata": {},
   "source": [
    "## GR5241 Homework 4\n",
    "### Name: Kangshuo Li           UNI: kl3259\n",
    "\n",
    "<br>\n",
    "\n",
    "![](GR5241_HW4_Q5_1.png)\n",
    "![](GR5241_HW4_Q5_2.png)\n",
    "![](GR5241_HW4_Q5_3.png)\n",
    "![](GR5241_HW4_Q5_4.png)"
   ]
  },
  {
   "cell_type": "markdown",
   "metadata": {},
   "source": [
    "### Setup"
   ]
  },
  {
   "cell_type": "code",
   "execution_count": 1,
   "metadata": {},
   "outputs": [],
   "source": [
    "import pandas as pd\n",
    "import numpy as np\n",
    "import sklearn\n",
    "import matplotlib\n",
    "from matplotlib import pyplot as plt\n",
    "import os\n",
    "import re"
   ]
  },
  {
   "cell_type": "markdown",
   "metadata": {},
   "source": [
    "### Read in data"
   ]
  },
  {
   "cell_type": "code",
   "execution_count": 5,
   "metadata": {},
   "outputs": [],
   "source": [
    "feature_df = pd.read_csv(\"features.txt\", header = None)\n",
    "target_df = pd.read_csv(\"target.txt\", header = None)\n",
    "assert feature_df.shape == (6414,122)\n",
    "assert target_df.shape == (6414, 1)"
   ]
  },
  {
   "cell_type": "markdown",
   "metadata": {},
   "source": [
    "### 5.\n",
    "#### (a)"
   ]
  },
  {
   "cell_type": "code",
   "execution_count": null,
   "metadata": {},
   "outputs": [],
   "source": [
    "C = 100\n",
    "\n",
    "def my_gradient_descendent(C, method, x_ = feature_df, y_ = target_df):\n",
    "    def L(w, b, x_i, y_i):\n",
    "        return max(0, (1 - y_i * (w.T @ x_i + b)))\n",
    "\n",
    "    def cost(w, b, C, x_ = x_, y_ = y_):\n",
    "        n = x_.shape[0]\n",
    "        sum_L = 0\n",
    "        for i in np.arange(n):\n",
    "            sum_L += L(w, b, np.array(x_.iloc[i, :]).T, int(y_[i]))\n",
    "        return (1 / 2) * w.T @ w + C * sum_L\n",
    "\n",
    "    def gradient_w(w, b, x_i, y_i, C, j):\n",
    "        if L(w, b, x_i, y_i) != 0:\n",
    "            return w[j]\n",
    "        else:\n",
    "\n",
    "        return\n",
    "\n",
    "    def gradient_b(w, b, x_i, y_i):\n",
    "\n",
    "        return\n",
    "\n",
    "\n",
    "    \n",
    "    def my_batchGD():\n",
    "        k = 0\n",
    "\n",
    "        pass\n",
    "\n",
    "    def my_SGD():\n",
    "\n",
    "        pass\n",
    "\n",
    "    def my_MiniBatchGD():\n",
    "\n",
    "        pass\n",
    "\n",
    "\n",
    "\n",
    "    if method == \"BatchGD\":\n",
    "\n",
    "    elif method == \"SGD\":\n",
    "\n",
    "    elif method == \"MiniBatchGD\":\n",
    "\n",
    "    \n",
    "\n",
    "\n",
    "    pass\n",
    "\n",
    "\n"
   ]
  }
 ],
 "metadata": {
  "interpreter": {
   "hash": "27646e5cfdb25e10f4fd8ef0a3a49281af2a8af5fb226dbbb4749ab5404e27a8"
  },
  "kernelspec": {
   "display_name": "Python 3.9.10 ('eods-s22')",
   "language": "python",
   "name": "python3"
  },
  "language_info": {
   "codemirror_mode": {
    "name": "ipython",
    "version": 3
   },
   "file_extension": ".py",
   "mimetype": "text/x-python",
   "name": "python",
   "nbconvert_exporter": "python",
   "pygments_lexer": "ipython3",
   "version": "3.9.10"
  },
  "orig_nbformat": 4
 },
 "nbformat": 4,
 "nbformat_minor": 2
}
