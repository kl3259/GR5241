{
 "cells": [
  {
   "cell_type": "markdown",
   "metadata": {},
   "source": [
    "## GR5241 Homework 4\n",
    "### Name: Kangshuo Li           UNI: kl3259\n",
    "\n",
    "<br>\n",
    "\n",
    "![](GR5241_HW4_Q5_1.png)\n",
    "![](GR5241_HW4_Q5_2.png)\n",
    "![](GR5241_HW4_Q5_3.png)\n",
    "![](GR5241_HW4_Q5_4.png)"
   ]
  },
  {
   "cell_type": "markdown",
   "metadata": {},
   "source": [
    "#### Setup"
   ]
  },
  {
   "cell_type": "code",
   "execution_count": 43,
   "metadata": {},
   "outputs": [
    {
     "name": "stdout",
     "output_type": "stream",
     "text": [
      "Exception reporting mode: Plain\n"
     ]
    },
    {
     "data": {
      "text/plain": [
       "'/Users/kangshuoli/Documents/VScode_workspace/GR5241/GR5241_HW4'"
      ]
     },
     "execution_count": 43,
     "metadata": {},
     "output_type": "execute_result"
    }
   ],
   "source": [
    "import pandas as pd\n",
    "import numpy as np\n",
    "import sklearn\n",
    "import matplotlib\n",
    "from matplotlib import pyplot as plt\n",
    "import os\n",
    "import time\n",
    "%xmode plain\n",
    "os.getcwd()"
   ]
  },
  {
   "cell_type": "markdown",
   "metadata": {},
   "source": [
    "#### Read in data"
   ]
  },
  {
   "cell_type": "code",
   "execution_count": 44,
   "metadata": {},
   "outputs": [],
   "source": [
    "feature_df = pd.read_csv(\"features.txt\", header = None)\n",
    "target_df = pd.read_csv(\"target.txt\", header = None)\n",
    "assert feature_df.shape == (6414,122)\n",
    "assert target_df.shape == (6414, 1)"
   ]
  },
  {
   "cell_type": "markdown",
   "metadata": {},
   "source": [
    "#### 5.\n",
    "##### (a)"
   ]
  },
  {
   "cell_type": "code",
   "execution_count": 57,
   "metadata": {},
   "outputs": [],
   "source": [
    "def my_SVM(method, x_ = feature_df, y_ = target_df):\n",
    "    n = x_.shape[0]\n",
    "    d = x_.shape[1]\n",
    "    y_ = np.array(y_).ravel()\n",
    "    def L(w, b, x_i, y_i):\n",
    "        return max(0, (1 - y_i * (w.T @ x_i + b)))\n",
    "\n",
    "    def cost(w, b, C, x_ = x_, y_ = y_):\n",
    "        sum_L = 0\n",
    "        for i in np.arange(n):\n",
    "            sum_L += L(w, b, np.array(x_.iloc[i, :]).T, int(y_[i]))\n",
    "        return (1 / 2) * w.T @ w + C * sum_L\n",
    "\n",
    "    def gradient_w(w, b, x_, y_, C, j):\n",
    "        sum_L = 0\n",
    "        for i in np.arange(n):\n",
    "            if y_[i] * (w.T @ x_.iloc[i,:].T + b) >= 1:\n",
    "                continue\n",
    "            else:\n",
    "                sum_L += (- x_.iloc[i,j] * y_[i])\n",
    "        return w[j] + C * sum_L\n",
    "\n",
    "    def gradient_w_i(w, b, x_i, y_i, C, j):\n",
    "        sum_L = 0\n",
    "        if y_i * (w.T @ x_i + b) >= 1:\n",
    "            return w[j]\n",
    "        else:\n",
    "            sum_L += (- x_i[j] * y_i)\n",
    "        return w[j] + C * sum_L\n",
    "\n",
    "    def gradient_w_l(w, b, x_l, y_l, C, j):\n",
    "        sum_L = 0\n",
    "        x_l.index = np.arange(x_l.shape[0], dtype = int)\n",
    "        for i in np.arange(x_l.shape[0]):\n",
    "            if y_l[i] * (w.T @ x_l.iloc[i,:].T + b) >= 1:\n",
    "                continue\n",
    "            else:\n",
    "                sum_L += (- x_l.iloc[i, j] * y_l[i])    \n",
    "            return w[j] + C * sum_L\n",
    "\n",
    "    def gradient_b(w, b, x_, y_, C):\n",
    "        sum_L = 0\n",
    "        for i in np.arange(n):\n",
    "            if y_[i] * (w.T @ x_.iloc[i,:].T + b) >= 1:\n",
    "                continue\n",
    "            else:\n",
    "                sum_L += (- y_[i])\n",
    "        return  C * sum_L\n",
    "\n",
    "    def gradient_b_i(w, b, x_i, y_i, C):\n",
    "        if y_i * (w.T @ x_i + b) >= 1:\n",
    "            return 0\n",
    "        else:\n",
    "            return C * (- y_i)\n",
    "\n",
    "    def gradient_b_l(w, b, x_l, y_l, C):\n",
    "        sum_L = 0\n",
    "        x_l.index = np.arange(x_l.shape[0], dtype = int)\n",
    "        for i in np.arange(x_l.shape[0]):\n",
    "            if y_l[i] * (w.T @ x_l.iloc[i,:].T + b) >= 1:\n",
    "                continue\n",
    "            else:\n",
    "                sum_L += (- y_l[i])\n",
    "        return  C * sum_L\n",
    "\n",
    "    #---------------------------------------------------------------------------------------\n",
    "\n",
    "    def my_batchGD(ita = 0.0000003, epsilon = 0.25, C = 100, x_ = x_, y_ = y_):\n",
    "        k = 0\n",
    "        cost_list = [] # f_k(w, b)\n",
    "        w = np.zeros((d,)) # (d,)\n",
    "        b = 0\n",
    "        cost_list.append(cost(w, b, C, x_ = x_, y_ = y_)) # f_0(w, b)\n",
    "        conv_crit = 100\n",
    "        while conv_crit > epsilon:\n",
    "            prev_w = w\n",
    "            for j in np.arange(d):\n",
    "                w[j] -= ita * gradient_w(w, b, x_, y_, C, j)\n",
    "            b -= ita * gradient_b(prev_w, b, x_, y_, C)\n",
    "            k += 1\n",
    "            cost_list.append(cost(w, b, C, x_ = x_, y_ = y_))\n",
    "            conv_crit = 100 * np.abs(cost_list[k - 1] - cost_list[k]) / (cost_list[k - 1])\n",
    "        return w, b, cost_list, k\n",
    "\n",
    "    def my_SGD(ita = 0.0001, epsilon = 0.001, C = 100, x_ = x_, y_ = y_):\n",
    "        # shuffle the data\n",
    "        from sklearn.utils import shuffle\n",
    "        x_shuffled, y_shuffled = shuffle(\n",
    "            x_, y_, \n",
    "            random_state = 42\n",
    "        )\n",
    "        # reindexing\n",
    "        x_shuffled.index = np.arange(n, dtype = int)\n",
    "        i = 1\n",
    "        k = 0\n",
    "        cost_list = []\n",
    "        delta_cost_list = []\n",
    "        delta_cost_list.append(0) # delta_cost = 0\n",
    "        w = np.zeros((d,)) # (d,)\n",
    "        b = 0\n",
    "        cost_list.append(cost(w, b, C, x_ = x_shuffled, y_ = y_shuffled)) # f_0(w, b)\n",
    "        conv_crit = 100\n",
    "        while conv_crit > epsilon:\n",
    "            prev_w = w\n",
    "            for j in np.arange(d):\n",
    "                w[j] -= ita * gradient_w_i(w, b, x_shuffled.iloc[i,:].T, y_shuffled[i], C, j)\n",
    "            b -= ita * gradient_b_i(prev_w, b, x_shuffled.iloc[i,:].T, y_shuffled[i], C)\n",
    "            i = (i % n) + 1\n",
    "            k += 1\n",
    "            cost_list.append(cost(w, b, C, x_ = x_shuffled, y_ = y_shuffled))\n",
    "            delta_cost_percentage = 100 * np.abs(cost_list[k - 1] - cost_list[k]) / (cost_list[k - 1])\n",
    "            delta_cost_list.append(0.5 * delta_cost_percentage + 0.5 * delta_cost_list[k - 1])\n",
    "            conv_crit = delta_cost_list[k]\n",
    "        return w, b, cost_list, k\n",
    "\n",
    "    def my_MiniBatchGD(batch_size = 20, ita = 0.00001, epsilon = 0.01, C = 100, x_ = x_, y_ = y_):\n",
    "        # shuffle the data\n",
    "        from sklearn.utils import shuffle\n",
    "        x_shuffled, y_shuffled = shuffle(\n",
    "            x_, y_, \n",
    "            random_state = 42\n",
    "        )\n",
    "        # reindexing\n",
    "        x_shuffled.index = np.arange(n, dtype = int)\n",
    "        l = 1\n",
    "        k = 0\n",
    "        w = np.zeros((d,)) # (d,)\n",
    "        b = 0\n",
    "        cost_list = []\n",
    "        cost_list.append(cost(w, b, C, x_ = x_shuffled, y_ = y_shuffled)) # f_0(w, b)\n",
    "        delta_cost_list = []\n",
    "        delta_cost_list.append(0) # delta_cost = 0\n",
    "        conv_crit = 100\n",
    "        while conv_crit > epsilon:\n",
    "            prev_w = w\n",
    "            for j in np.arange(d):\n",
    "                w[j] -= ita * gradient_w_l(\n",
    "                    w, b, \n",
    "                    x_shuffled.iloc[np.arange(l * batch_size + 1, min(n, (l+1) * batch_size + 1), dtype = int),:], \n",
    "                    y_shuffled[np.arange(l * batch_size + 1, min(n, (l+1) * batch_size + 1), dtype = int)], \n",
    "                    C, j\n",
    "                )\n",
    "            b -= ita * gradient_b_l(\n",
    "                prev_w, b, \n",
    "                x_shuffled.iloc[np.arange(l * batch_size + 1, min(n, (l+1) * batch_size + 1), dtype = int),:], \n",
    "                y_shuffled[np.arange(l * batch_size + 1, min(n, (l+1) * batch_size + 1), dtype = int)], \n",
    "                C\n",
    "            )\n",
    "            l = (l + 1) % ((n + batch_size - 1) / (batch_size))\n",
    "            k += 1\n",
    "            cost_list.append(cost(w, b, C, x_ = x_shuffled, y_ = y_shuffled))\n",
    "            delta_cost_percentage = 100 * np.abs(cost_list[k - 1] - cost_list[k]) / (cost_list[k - 1])\n",
    "            delta_cost_list.append(0.5 * delta_cost_percentage + 0.5 * delta_cost_list[k - 1])\n",
    "            conv_crit = delta_cost_list[k]\n",
    "        return w, b, cost_list, k\n",
    "\n",
    "    #---------------------------------------------------------------------------------------\n",
    "    def make_prediction(w_, b_, x_ = x_, y_ = y_):\n",
    "        prediction = []\n",
    "        for i in np.arange(n):\n",
    "            if w_.T @ x_.iloc[i,:].T + b_ >= 0:\n",
    "                prediction.append(1)\n",
    "            else:\n",
    "                prediction.append(0)\n",
    "        return np.array(prediction)\n",
    "\n",
    "    #---------------------------------------------------------------------------------------\n",
    "\n",
    "    if method == \"BatchGD\":\n",
    "        w, b, cost_list, k =  my_batchGD(ita = 0.0000003, epsilon = 0.25, C = 100, x_ = x_, y_ = y_)\n",
    "    elif method == \"SGD\":\n",
    "        w, b, cost_list, k = my_SGD(ita = 0.0001, epsilon = 0.001, C = 100, x_ = x_, y_ = y_)\n",
    "    elif method == \"MiniBatchGD\":\n",
    "        w, b, cost_list, k = my_MiniBatchGD(batch_size = 20, ita = 0.00001, epsilon = 0.01, C = 100, x_ = x_, y_ = y_)\n",
    "    return make_prediction(w, b, x_, y_), w, b, cost_list, k\n"
   ]
  },
  {
   "cell_type": "markdown",
   "metadata": {},
   "source": [
    "#### (b)"
   ]
  },
  {
   "cell_type": "code",
   "execution_count": 49,
   "metadata": {},
   "outputs": [],
   "source": [
    "from sklearn.metrics import accuracy_score, roc_auc_score"
   ]
  },
  {
   "cell_type": "code",
   "execution_count": 35,
   "metadata": {},
   "outputs": [
    {
     "name": "stdout",
     "output_type": "stream",
     "text": [
      "The AUC of BatchGD SVM is: 0.6718\n",
      "Time cost: 1924.55s\n"
     ]
    }
   ],
   "source": [
    "# implement my_SVM with BatchGD\n",
    "start_time = time.time()\n",
    "prediction_BatchGD, w, b, cost_list_BatchGD, k_BatchGD = my_SVM(\n",
    "    method = \"BatchGD\", \n",
    "    x_ = feature_df, \n",
    "    y_ = target_df\n",
    ")\n",
    "time_cost = time.time() - start_time\n",
    "auc_BatchGD = roc_auc_score(target_df, prediction_BatchGD)\n",
    "print(f'The AUC of BatchGD SVM is: {auc_BatchGD:0.4f}\\nTime cost: {time_cost:0.2f}s\\nConverge in: {k_BatchGD} iterations')"
   ]
  },
  {
   "cell_type": "code",
   "execution_count": 40,
   "metadata": {},
   "outputs": [
    {
     "name": "stdout",
     "output_type": "stream",
     "text": [
      "The AUC of SGD SVM is: 0.7256\n",
      "Time cost: 743.99s\n"
     ]
    }
   ],
   "source": [
    "# implement my_SVM with SGD\n",
    "start_time = time.time()\n",
    "prediction_SGD, w, b, cost_list_SGD, k_SGD = my_SVM(\n",
    "    method = \"SGD\", \n",
    "    x_ = feature_df, \n",
    "    y_ = target_df\n",
    ")\n",
    "time_cost = time.time() - start_time\n",
    "auc_SGD = roc_auc_score(target_df, prediction_SGD)\n",
    "print(f'The AUC of SGD SVM is: {auc_SGD:0.4f}\\nTime cost: {time_cost:0.2f}s\\nConverge in: {k_SGD} iterations')"
   ]
  },
  {
   "cell_type": "code",
   "execution_count": 58,
   "metadata": {},
   "outputs": [
    {
     "name": "stdout",
     "output_type": "stream",
     "text": [
      "()\n",
      "()\n",
      "()\n",
      "()\n",
      "()\n",
      "()\n",
      "()\n",
      "()\n",
      "()\n",
      "()\n",
      "()\n",
      "()\n",
      "()\n",
      "()\n",
      "()\n",
      "()\n",
      "()\n",
      "()\n",
      "()\n",
      "()\n"
     ]
    },
    {
     "ename": "IndexError",
     "evalue": "index 20 is out of bounds for axis 0 with size 20",
     "output_type": "error",
     "traceback": [
      "Traceback \u001b[0;36m(most recent call last)\u001b[0m:\n",
      "  Input \u001b[1;32mIn [58]\u001b[0m in \u001b[1;35m<module>\u001b[0m\n    prediction_MiniBatchGD, w, b, cost_list_MiniBatchGD, k_MiniBatchGD = my_SVM(\n",
      "  Input \u001b[1;32mIn [57]\u001b[0m in \u001b[1;35mmy_SVM\u001b[0m\n    w, b, cost_list, k = my_MiniBatchGD(batch_size = 20, ita = 0.00001, epsilon = 0.01, C = 100, x_ = x_, y_ = y_)\n",
      "  Input \u001b[1;32mIn [57]\u001b[0m in \u001b[1;35mmy_MiniBatchGD\u001b[0m\n    w[j] -= ita * gradient_w_l(\n",
      "\u001b[0;36m  Input \u001b[0;32mIn [57]\u001b[0;36m in \u001b[0;35mgradient_w_l\u001b[0;36m\u001b[0m\n\u001b[0;31m    print(y_l[j].shape)\u001b[0m\n",
      "\u001b[0;31mIndexError\u001b[0m\u001b[0;31m:\u001b[0m index 20 is out of bounds for axis 0 with size 20\n"
     ]
    }
   ],
   "source": [
    "# implement my_SVM with MiniBatchGD\n",
    "start_time = time.time()\n",
    "prediction_MiniBatchGD, w, b, cost_list_MiniBatchGD, k_MiniBatchGD = my_SVM(\n",
    "    method = \"MiniBatchGD\", \n",
    "    x_ = feature_df, \n",
    "    y_ = target_df\n",
    ")\n",
    "time_cost = time.time() - start_time\n",
    "auc_MiniBatchGD = roc_auc_score(target_df, prediction_MiniBatchGD)\n",
    "print(f'The AUC of MiniBatchGD SVM is: {auc_MiniBatchGD:0.4f}\\nTime cost: {time_cost:0.2f}s\\nConverge in: {k_MiniBatchGD} iterations')"
   ]
  },
  {
   "cell_type": "markdown",
   "metadata": {},
   "source": [
    "#### (C)"
   ]
  },
  {
   "cell_type": "code",
   "execution_count": 47,
   "metadata": {},
   "outputs": [
    {
     "data": {
      "text/plain": [
       "array([ 0,  1,  2,  3,  4,  5,  6,  7,  8,  9, 10, 11, 12, 13, 14, 15, 16,\n",
       "       17, 18, 19])"
      ]
     },
     "execution_count": 47,
     "metadata": {},
     "output_type": "execute_result"
    }
   ],
   "source": [
    "np.arange(20)"
   ]
  },
  {
   "cell_type": "code",
   "execution_count": null,
   "metadata": {},
   "outputs": [],
   "source": []
  }
 ],
 "metadata": {
  "interpreter": {
   "hash": "27646e5cfdb25e10f4fd8ef0a3a49281af2a8af5fb226dbbb4749ab5404e27a8"
  },
  "kernelspec": {
   "display_name": "Python 3.9.10 ('eods-s22')",
   "language": "python",
   "name": "python3"
  },
  "language_info": {
   "codemirror_mode": {
    "name": "ipython",
    "version": 3
   },
   "file_extension": ".py",
   "mimetype": "text/x-python",
   "name": "python",
   "nbconvert_exporter": "python",
   "pygments_lexer": "ipython3",
   "version": "3.9.10"
  },
  "orig_nbformat": 4
 },
 "nbformat": 4,
 "nbformat_minor": 2
}
